{
 "cells": [
  {
   "cell_type": "code",
   "execution_count": 1,
   "metadata": {
    "pycharm": {
     "is_executing": true
    },
    "scrolled": false
   },
   "outputs": [],
   "source": [
    "from dataset.protocol import Protocol\n",
    "\n",
    "\n",
    "prot_path = \"C:/Users/b_charmettant/data/immuno/\"\n",
    "mk = Protocol(prot_path, \"LYTIX\")"
   ]
  },
  {
   "cell_type": "code",
   "execution_count": 2,
   "metadata": {
    "pycharm": {
     "is_executing": true,
     "name": "#%%\n"
    }
   },
   "outputs": [
    {
     "name": "stdout",
     "output_type": "stream",
     "text": [
      ">>> Protocol : LYTIX\n",
      "> 9 Patients \n",
      "> 24 tumors (12 injected, 12 control)\n",
      "> 185 images\n"
     ]
    }
   ],
   "source": [
    "nb_patients = mk.get_nb_patients()\n",
    "control_tumors, injected_tumors = mk.get_tumors_stats()\n",
    "nb_tumors = control_tumors + injected_tumors\n",
    "nb_images = mk.get_nb_images()\n",
    "\n",
    "print(\">>> Protocol : {}\".format(mk.name))\n",
    "print(\"> {} Patients \\n> {} tumors ({} injected, {} control)\".format(nb_patients,\n",
    "                                                                     nb_tumors,\n",
    "                                                                     injected_tumors,\n",
    "                                                                     control_tumors))\n",
    "print(\"> {} images\".format(nb_images))"
   ]
  },
  {
   "cell_type": "code",
   "execution_count": null,
   "metadata": {
    "pycharm": {
     "is_executing": true,
     "name": "#%%\n"
    }
   },
   "outputs": [],
   "source": [
    "ls_patients = {}\n",
    "for patient in mk.ls_patients:\n",
    "    ls_patients[patient.name] = patient\n",
    "    \n",
    "ls_patients"
   ]
  },
  {
   "cell_type": "code",
   "execution_count": null,
   "metadata": {
    "pycharm": {
     "is_executing": true
    }
   },
   "outputs": [],
   "source": [
    "patient = ls_patients['immuno_18']\n",
    "\n",
    "patient.ls_tumors"
   ]
  },
  {
   "cell_type": "code",
   "execution_count": null,
   "metadata": {
    "pycharm": {
     "is_executing": true
    },
    "scrolled": false
   },
   "outputs": [],
   "source": [
    "patient.ls_tumors['cible2'].display(figsize=(20,20))"
   ]
  },
  {
   "cell_type": "code",
   "execution_count": null,
   "metadata": {
    "pycharm": {
     "is_executing": true
    }
   },
   "outputs": [],
   "source": []
  },
  {
   "cell_type": "code",
   "execution_count": null,
   "metadata": {
    "pycharm": {
     "is_executing": true
    }
   },
   "outputs": [],
   "source": []
  },
  {
   "cell_type": "code",
   "execution_count": null,
   "metadata": {
    "pycharm": {
     "is_executing": true
    }
   },
   "outputs": [],
   "source": []
  },
  {
   "cell_type": "code",
   "execution_count": null,
   "metadata": {
    "pycharm": {
     "is_executing": true
    }
   },
   "outputs": [],
   "source": []
  }
 ],
 "metadata": {
  "kernelspec": {
   "display_name": "Python 3",
   "language": "python",
   "name": "python3"
  },
  "language_info": {
   "codemirror_mode": {
    "name": "ipython",
    "version": 3
   },
   "file_extension": ".py",
   "mimetype": "text/x-python",
   "name": "python",
   "nbconvert_exporter": "python",
   "pygments_lexer": "ipython3",
   "version": "3.7.5"
  },
  "pycharm": {
   "stem_cell": {
    "cell_type": "raw",
    "metadata": {
     "collapsed": false
    },
    "source": []
   }
  }
 },
 "nbformat": 4,
 "nbformat_minor": 1
}
